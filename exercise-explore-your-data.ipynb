{
 "cells": [
  {
   "cell_type": "markdown",
   "id": "b57119dc",
   "metadata": {
    "papermill": {
     "duration": 0.004309,
     "end_time": "2024-05-22T19:20:21.581754",
     "exception": false,
     "start_time": "2024-05-22T19:20:21.577445",
     "status": "completed"
    },
    "tags": []
   },
   "source": [
    "**This notebook is an exercise in the [Introduction to Machine Learning](https://www.kaggle.com/learn/intro-to-machine-learning) course.  You can reference the tutorial at [this link](https://www.kaggle.com/dansbecker/random-forests).**\n",
    "\n",
    "---\n"
   ]
  },
  {
   "cell_type": "markdown",
   "id": "4abe1927",
   "metadata": {
    "papermill": {
     "duration": 0.003399,
     "end_time": "2024-05-22T19:20:21.588994",
     "exception": false,
     "start_time": "2024-05-22T19:20:21.585595",
     "status": "completed"
    },
    "tags": []
   },
   "source": [
    "## Recap\n",
    "Here's the code you've written so far."
   ]
  },
  {
   "cell_type": "code",
   "execution_count": 1,
   "id": "baa36fd7",
   "metadata": {
    "execution": {
     "iopub.execute_input": "2024-05-22T19:20:21.598463Z",
     "iopub.status.busy": "2024-05-22T19:20:21.598085Z",
     "iopub.status.idle": "2024-05-22T19:20:24.442819Z",
     "shell.execute_reply": "2024-05-22T19:20:24.441575Z"
    },
    "papermill": {
     "duration": 2.852847,
     "end_time": "2024-05-22T19:20:24.445399",
     "exception": false,
     "start_time": "2024-05-22T19:20:21.592552",
     "status": "completed"
    },
    "tags": []
   },
   "outputs": [
    {
     "name": "stdout",
     "output_type": "stream",
     "text": [
      "Validation MAE when not specifying max_leaf_nodes: 29,653\n",
      "Validation MAE for best value of max_leaf_nodes: 27,283\n",
      "\n",
      "Setup complete\n"
     ]
    }
   ],
   "source": [
    "# Code you have previously used to load data\n",
    "import pandas as pd\n",
    "from sklearn.metrics import mean_absolute_error\n",
    "from sklearn.model_selection import train_test_split\n",
    "from sklearn.tree import DecisionTreeRegressor\n",
    "\n",
    "\n",
    "# Path of the file to read\n",
    "iowa_file_path = '../input/home-data-for-ml-course/train.csv'\n",
    "\n",
    "home_data = pd.read_csv(iowa_file_path)\n",
    "# Create target object and call it y\n",
    "y = home_data.SalePrice\n",
    "# Create X\n",
    "features = ['LotArea', 'YearBuilt', '1stFlrSF', '2ndFlrSF', 'FullBath', 'BedroomAbvGr', 'TotRmsAbvGrd']\n",
    "X = home_data[features]\n",
    "\n",
    "# Split into validation and training data\n",
    "train_X, val_X, train_y, val_y = train_test_split(X, y, random_state=1)\n",
    "\n",
    "# Specify Model\n",
    "iowa_model = DecisionTreeRegressor(random_state=1)\n",
    "# Fit Model\n",
    "iowa_model.fit(train_X, train_y)\n",
    "\n",
    "# Make validation predictions and calculate mean absolute error\n",
    "val_predictions = iowa_model.predict(val_X)\n",
    "val_mae = mean_absolute_error(val_predictions, val_y)\n",
    "print(\"Validation MAE when not specifying max_leaf_nodes: {:,.0f}\".format(val_mae))\n",
    "\n",
    "# Using best value for max_leaf_nodes\n",
    "iowa_model = DecisionTreeRegressor(max_leaf_nodes=100, random_state=1)\n",
    "iowa_model.fit(train_X, train_y)\n",
    "val_predictions = iowa_model.predict(val_X)\n",
    "val_mae = mean_absolute_error(val_predictions, val_y)\n",
    "print(\"Validation MAE for best value of max_leaf_nodes: {:,.0f}\".format(val_mae))\n",
    "\n",
    "\n",
    "# Set up code checking\n",
    "from learntools.core import binder\n",
    "binder.bind(globals())\n",
    "from learntools.machine_learning.ex6 import *\n",
    "print(\"\\nSetup complete\")"
   ]
  },
  {
   "cell_type": "markdown",
   "id": "177f140f",
   "metadata": {
    "papermill": {
     "duration": 0.00345,
     "end_time": "2024-05-22T19:20:24.452649",
     "exception": false,
     "start_time": "2024-05-22T19:20:24.449199",
     "status": "completed"
    },
    "tags": []
   },
   "source": [
    "# Exercises\n",
    "Data science isn't always this easy. But replacing the decision tree with a Random Forest is going to be an easy win."
   ]
  },
  {
   "cell_type": "markdown",
   "id": "5037cf8e",
   "metadata": {
    "papermill": {
     "duration": 0.003405,
     "end_time": "2024-05-22T19:20:24.459692",
     "exception": false,
     "start_time": "2024-05-22T19:20:24.456287",
     "status": "completed"
    },
    "tags": []
   },
   "source": [
    "## Step 1: Use a Random Forest"
   ]
  },
  {
   "cell_type": "code",
   "execution_count": 2,
   "id": "9a2b2315",
   "metadata": {
    "execution": {
     "iopub.execute_input": "2024-05-22T19:20:24.468555Z",
     "iopub.status.busy": "2024-05-22T19:20:24.468105Z",
     "iopub.status.idle": "2024-05-22T19:20:25.104156Z",
     "shell.execute_reply": "2024-05-22T19:20:25.102982Z"
    },
    "papermill": {
     "duration": 0.643339,
     "end_time": "2024-05-22T19:20:25.106527",
     "exception": false,
     "start_time": "2024-05-22T19:20:24.463188",
     "status": "completed"
    },
    "tags": []
   },
   "outputs": [
    {
     "name": "stdout",
     "output_type": "stream",
     "text": [
      "Validation MAE for Random Forest Model: 21857.15912981083\n"
     ]
    },
    {
     "data": {
      "application/javascript": [
       "parent.postMessage({\"jupyterEvent\": \"custom.exercise_interaction\", \"data\": {\"outcomeType\": 1, \"valueTowardsCompletion\": 1.0, \"interactionType\": 1, \"questionType\": 2, \"questionId\": \"1_CheckRfScore\", \"learnToolsVersion\": \"0.3.4\", \"failureMessage\": \"\", \"exceptionClass\": \"\", \"trace\": \"\"}}, \"*\")"
      ],
      "text/plain": [
       "<IPython.core.display.Javascript object>"
      ]
     },
     "metadata": {},
     "output_type": "display_data"
    },
    {
     "data": {
      "text/markdown": [
       "<span style=\"color:#33cc33\">Correct</span>"
      ],
      "text/plain": [
       "Correct"
      ]
     },
     "metadata": {},
     "output_type": "display_data"
    }
   ],
   "source": [
    "from sklearn.ensemble import RandomForestRegressor\n",
    "\n",
    "# Define the model. Set random_state to 1\n",
    "rf_model = RandomForestRegressor(random_state=1)\n",
    "\n",
    "# fit your model\n",
    "rf_model.fit(train_X, train_y)\n",
    "\n",
    "# Calculate the mean absolute error of your Random Forest model on the validation data\n",
    "rf_val_mae = mean_absolute_error(val_y,rf_model.predict(val_X))\n",
    "\n",
    "print(\"Validation MAE for Random Forest Model: {}\".format(rf_val_mae))\n",
    "\n",
    "# Check your answer\n",
    "step_1.check()"
   ]
  },
  {
   "cell_type": "code",
   "execution_count": 3,
   "id": "bdc1fe17",
   "metadata": {
    "execution": {
     "iopub.execute_input": "2024-05-22T19:20:25.117033Z",
     "iopub.status.busy": "2024-05-22T19:20:25.116087Z",
     "iopub.status.idle": "2024-05-22T19:20:25.121176Z",
     "shell.execute_reply": "2024-05-22T19:20:25.120194Z"
    },
    "papermill": {
     "duration": 0.012758,
     "end_time": "2024-05-22T19:20:25.123469",
     "exception": false,
     "start_time": "2024-05-22T19:20:25.110711",
     "status": "completed"
    },
    "tags": []
   },
   "outputs": [],
   "source": [
    "# The lines below will show you a hint or the solution.\n",
    "# step_1.hint() \n",
    "# step_1.solution()\n"
   ]
  },
  {
   "cell_type": "markdown",
   "id": "b31df035",
   "metadata": {
    "papermill": {
     "duration": 0.004277,
     "end_time": "2024-05-22T19:20:25.131992",
     "exception": false,
     "start_time": "2024-05-22T19:20:25.127715",
     "status": "completed"
    },
    "tags": []
   },
   "source": [
    "So far, you have followed specific instructions at each step of your project. This helped learn key ideas and build your first model, but now you know enough to try things on your own. \n",
    "\n",
    "Machine Learning competitions are a great way to try your own ideas and learn more as you independently navigate a machine learning project. \n",
    "\n",
    "# Keep Going\n",
    "\n",
    "You are ready for **[Machine Learning Competitions](https://www.kaggle.com/alexisbcook/machine-learning-competitions).**\n"
   ]
  },
  {
   "cell_type": "markdown",
   "id": "54e3c747",
   "metadata": {
    "papermill": {
     "duration": 0.003852,
     "end_time": "2024-05-22T19:20:25.140017",
     "exception": false,
     "start_time": "2024-05-22T19:20:25.136165",
     "status": "completed"
    },
    "tags": []
   },
   "source": [
    "---\n",
    "\n",
    "\n",
    "\n",
    "\n",
    "*Have questions or comments? Visit the [course discussion forum](https://www.kaggle.com/learn/intro-to-machine-learning/discussion) to chat with other learners.*"
   ]
  }
 ],
 "metadata": {
  "kaggle": {
   "accelerator": "none",
   "dataSources": [
    {
     "databundleVersionId": 111096,
     "sourceId": 10211,
     "sourceType": "competition"
    },
    {
     "datasetId": 11167,
     "sourceId": 15520,
     "sourceType": "datasetVersion"
    },
    {
     "datasetId": 2709,
     "sourceId": 38454,
     "sourceType": "datasetVersion"
    }
   ],
   "isGpuEnabled": false,
   "isInternetEnabled": false,
   "language": "python",
   "sourceType": "notebook"
  },
  "kernelspec": {
   "display_name": "Python 3",
   "language": "python",
   "name": "python3"
  },
  "language_info": {
   "codemirror_mode": {
    "name": "ipython",
    "version": 3
   },
   "file_extension": ".py",
   "mimetype": "text/x-python",
   "name": "python",
   "nbconvert_exporter": "python",
   "pygments_lexer": "ipython3",
   "version": "3.10.13"
  },
  "papermill": {
   "default_parameters": {},
   "duration": 7.378008,
   "end_time": "2024-05-22T19:20:25.765705",
   "environment_variables": {},
   "exception": null,
   "input_path": "__notebook__.ipynb",
   "output_path": "__notebook__.ipynb",
   "parameters": {},
   "start_time": "2024-05-22T19:20:18.387697",
   "version": "2.5.0"
  }
 },
 "nbformat": 4,
 "nbformat_minor": 5
}
