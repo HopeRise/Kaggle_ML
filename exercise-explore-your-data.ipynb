{
 "cells": [
  {
   "cell_type": "markdown",
   "id": "763b2b90",
   "metadata": {
    "papermill": {
     "duration": 0.006055,
     "end_time": "2024-05-14T21:06:11.339012",
     "exception": false,
     "start_time": "2024-05-14T21:06:11.332957",
     "status": "completed"
    },
    "tags": []
   },
   "source": [
    "**This notebook is an exercise in the [Introduction to Machine Learning](https://www.kaggle.com/learn/intro-to-machine-learning) course.  You can reference the tutorial at [this link](https://www.kaggle.com/dansbecker/model-validation).**\n",
    "\n",
    "---\n"
   ]
  },
  {
   "cell_type": "markdown",
   "id": "3c273d52",
   "metadata": {
    "papermill": {
     "duration": 0.005205,
     "end_time": "2024-05-14T21:06:11.350048",
     "exception": false,
     "start_time": "2024-05-14T21:06:11.344843",
     "status": "completed"
    },
    "tags": []
   },
   "source": [
    "## Recap\n",
    "You've built a model. In this exercise you will test how good your model is.\n",
    "\n",
    "Run the cell below to set up your coding environment where the previous exercise left off."
   ]
  },
  {
   "cell_type": "code",
   "execution_count": 1,
   "id": "0bec11d4",
   "metadata": {
    "execution": {
     "iopub.execute_input": "2024-05-14T21:06:11.363770Z",
     "iopub.status.busy": "2024-05-14T21:06:11.362899Z",
     "iopub.status.idle": "2024-05-14T21:06:14.395912Z",
     "shell.execute_reply": "2024-05-14T21:06:14.394532Z"
    },
    "papermill": {
     "duration": 3.042855,
     "end_time": "2024-05-14T21:06:14.398455",
     "exception": false,
     "start_time": "2024-05-14T21:06:11.355600",
     "status": "completed"
    },
    "tags": []
   },
   "outputs": [
    {
     "name": "stdout",
     "output_type": "stream",
     "text": [
      "First in-sample predictions: [208500. 181500. 223500. 140000. 250000.]\n",
      "Actual target values for those homes: [208500, 181500, 223500, 140000, 250000]\n",
      "Setup Complete\n"
     ]
    }
   ],
   "source": [
    "# Code you have previously used to load data\n",
    "import pandas as pd\n",
    "from sklearn.tree import DecisionTreeRegressor\n",
    "\n",
    "# Path of the file to read\n",
    "iowa_file_path = '../input/home-data-for-ml-course/train.csv'\n",
    "\n",
    "home_data = pd.read_csv(iowa_file_path)\n",
    "y = home_data.SalePrice\n",
    "feature_columns = ['LotArea', 'YearBuilt', '1stFlrSF', '2ndFlrSF', 'FullBath', 'BedroomAbvGr', 'TotRmsAbvGrd']\n",
    "X = home_data[feature_columns]\n",
    "\n",
    "# Specify Model\n",
    "iowa_model = DecisionTreeRegressor()\n",
    "# Fit Model\n",
    "iowa_model.fit(X, y)\n",
    "\n",
    "print(\"First in-sample predictions:\", iowa_model.predict(X.head()))\n",
    "print(\"Actual target values for those homes:\", y.head().tolist())\n",
    "\n",
    "# Set up code checking\n",
    "from learntools.core import binder\n",
    "binder.bind(globals())\n",
    "from learntools.machine_learning.ex4 import *\n",
    "print(\"Setup Complete\")"
   ]
  },
  {
   "cell_type": "markdown",
   "id": "ae4d80b6",
   "metadata": {
    "papermill": {
     "duration": 0.005406,
     "end_time": "2024-05-14T21:06:14.409737",
     "exception": false,
     "start_time": "2024-05-14T21:06:14.404331",
     "status": "completed"
    },
    "tags": []
   },
   "source": [
    "# Exercises\n",
    "\n",
    "## Step 1: Split Your Data\n",
    "Use the `train_test_split` function to split up your data.\n",
    "\n",
    "Give it the argument `random_state=1` so the `check` functions know what to expect when verifying your code.\n",
    "\n",
    "Recall, your features are loaded in the DataFrame **X** and your target is loaded in **y**.\n"
   ]
  },
  {
   "cell_type": "code",
   "execution_count": 2,
   "id": "09f2a128",
   "metadata": {
    "execution": {
     "iopub.execute_input": "2024-05-14T21:06:14.423292Z",
     "iopub.status.busy": "2024-05-14T21:06:14.422579Z",
     "iopub.status.idle": "2024-05-14T21:06:14.432722Z",
     "shell.execute_reply": "2024-05-14T21:06:14.431639Z"
    },
    "papermill": {
     "duration": 0.019521,
     "end_time": "2024-05-14T21:06:14.434858",
     "exception": false,
     "start_time": "2024-05-14T21:06:14.415337",
     "status": "completed"
    },
    "tags": []
   },
   "outputs": [
    {
     "data": {
      "application/javascript": [
       "parent.postMessage({\"jupyterEvent\": \"custom.exercise_interaction\", \"data\": {\"outcomeType\": 2, \"failureMessage\": \"You still need to define the following variables: `val_X`, `train_y`, `val_y`, `train_X`\", \"interactionType\": 1, \"questionType\": 2, \"questionId\": \"1_SplitData\", \"learnToolsVersion\": \"0.3.4\", \"valueTowardsCompletion\": 0.0, \"exceptionClass\": \"\", \"trace\": \"\"}}, \"*\")"
      ],
      "text/plain": [
       "<IPython.core.display.Javascript object>"
      ]
     },
     "metadata": {},
     "output_type": "display_data"
    },
    {
     "data": {
      "text/markdown": [
       "<span style=\"color:#cc3333\">Incorrect:</span> You still need to define the following variables: `val_X`, `train_y`, `val_y`, `train_X`"
      ],
      "text/plain": [
       "Incorrect: You still need to define the following variables: `val_X`, `train_y`, `val_y`, `train_X`"
      ]
     },
     "metadata": {},
     "output_type": "display_data"
    }
   ],
   "source": [
    "# Import the train_test_split function and uncomment\n",
    "# from _ import _\n",
    "\n",
    "# fill in and uncomment\n",
    "# train_X, val_X, train_y, val_y = ____\n",
    "\n",
    "# Check your answer\n",
    "step_1.check()"
   ]
  },
  {
   "cell_type": "code",
   "execution_count": 3,
   "id": "0b7769fb",
   "metadata": {
    "execution": {
     "iopub.execute_input": "2024-05-14T21:06:14.449502Z",
     "iopub.status.busy": "2024-05-14T21:06:14.448854Z",
     "iopub.status.idle": "2024-05-14T21:06:14.453883Z",
     "shell.execute_reply": "2024-05-14T21:06:14.452513Z"
    },
    "papermill": {
     "duration": 0.01501,
     "end_time": "2024-05-14T21:06:14.456135",
     "exception": false,
     "start_time": "2024-05-14T21:06:14.441125",
     "status": "completed"
    },
    "tags": []
   },
   "outputs": [],
   "source": [
    "# The lines below will show you a hint or the solution.\n",
    "# step_1.hint() \n",
    "# step_1.solution()\n"
   ]
  },
  {
   "cell_type": "markdown",
   "id": "25d29eb5",
   "metadata": {
    "papermill": {
     "duration": 0.006035,
     "end_time": "2024-05-14T21:06:14.468422",
     "exception": false,
     "start_time": "2024-05-14T21:06:14.462387",
     "status": "completed"
    },
    "tags": []
   },
   "source": [
    "## Step 2: Specify and Fit the Model\n",
    "\n",
    "Create a `DecisionTreeRegressor` model and fit it to the relevant data.\n",
    "Set `random_state` to 1 again when creating the model."
   ]
  },
  {
   "cell_type": "code",
   "execution_count": 4,
   "id": "5c05c952",
   "metadata": {
    "execution": {
     "iopub.execute_input": "2024-05-14T21:06:14.483142Z",
     "iopub.status.busy": "2024-05-14T21:06:14.482484Z",
     "iopub.status.idle": "2024-05-14T21:06:14.492569Z",
     "shell.execute_reply": "2024-05-14T21:06:14.491422Z"
    },
    "papermill": {
     "duration": 0.02016,
     "end_time": "2024-05-14T21:06:14.494925",
     "exception": false,
     "start_time": "2024-05-14T21:06:14.474765",
     "status": "completed"
    },
    "tags": []
   },
   "outputs": [
    {
     "data": {
      "application/javascript": [
       "parent.postMessage({\"jupyterEvent\": \"custom.exercise_interaction\", \"data\": {\"outcomeType\": 2, \"failureMessage\": \"You still need to define the following variables: `val_X`, `train_X`, `train_y`\", \"interactionType\": 1, \"questionType\": 2, \"questionId\": \"2_FitModelWithTrain\", \"learnToolsVersion\": \"0.3.4\", \"valueTowardsCompletion\": 0.0, \"exceptionClass\": \"\", \"trace\": \"\"}}, \"*\")"
      ],
      "text/plain": [
       "<IPython.core.display.Javascript object>"
      ]
     },
     "metadata": {},
     "output_type": "display_data"
    },
    {
     "data": {
      "text/markdown": [
       "<span style=\"color:#cc3333\">Incorrect:</span> You still need to define the following variables: `val_X`, `train_X`, `train_y`"
      ],
      "text/plain": [
       "Incorrect: You still need to define the following variables: `val_X`, `train_X`, `train_y`"
      ]
     },
     "metadata": {},
     "output_type": "display_data"
    }
   ],
   "source": [
    "# You imported DecisionTreeRegressor in your last exercise\n",
    "# and that code has been copied to the setup code above. So, no need to\n",
    "# import it again\n",
    "\n",
    "# Specify the model\n",
    "iowa_model = ____\n",
    "\n",
    "# Fit iowa_model with the training data.\n",
    "____\n",
    "\n",
    "# Check your answer\n",
    "step_2.check()"
   ]
  },
  {
   "cell_type": "code",
   "execution_count": 5,
   "id": "f9b83fcf",
   "metadata": {
    "execution": {
     "iopub.execute_input": "2024-05-14T21:06:14.510063Z",
     "iopub.status.busy": "2024-05-14T21:06:14.509600Z",
     "iopub.status.idle": "2024-05-14T21:06:14.514815Z",
     "shell.execute_reply": "2024-05-14T21:06:14.513347Z"
    },
    "papermill": {
     "duration": 0.015613,
     "end_time": "2024-05-14T21:06:14.517315",
     "exception": false,
     "start_time": "2024-05-14T21:06:14.501702",
     "status": "completed"
    },
    "tags": []
   },
   "outputs": [],
   "source": [
    "# step_2.hint()\n",
    "# step_2.solution()"
   ]
  },
  {
   "cell_type": "markdown",
   "id": "9ff3c806",
   "metadata": {
    "papermill": {
     "duration": 0.006535,
     "end_time": "2024-05-14T21:06:14.530797",
     "exception": false,
     "start_time": "2024-05-14T21:06:14.524262",
     "status": "completed"
    },
    "tags": []
   },
   "source": [
    "## Step 3: Make Predictions with Validation data\n"
   ]
  },
  {
   "cell_type": "code",
   "execution_count": 6,
   "id": "806d7184",
   "metadata": {
    "execution": {
     "iopub.execute_input": "2024-05-14T21:06:14.545957Z",
     "iopub.status.busy": "2024-05-14T21:06:14.545517Z",
     "iopub.status.idle": "2024-05-14T21:06:14.555083Z",
     "shell.execute_reply": "2024-05-14T21:06:14.553983Z"
    },
    "papermill": {
     "duration": 0.01994,
     "end_time": "2024-05-14T21:06:14.557355",
     "exception": false,
     "start_time": "2024-05-14T21:06:14.537415",
     "status": "completed"
    },
    "tags": []
   },
   "outputs": [
    {
     "data": {
      "application/javascript": [
       "parent.postMessage({\"jupyterEvent\": \"custom.exercise_interaction\", \"data\": {\"outcomeType\": 2, \"failureMessage\": \"You still need to define the following variables: `val_X`\", \"interactionType\": 1, \"questionType\": 2, \"questionId\": \"3_ValPreds\", \"learnToolsVersion\": \"0.3.4\", \"valueTowardsCompletion\": 0.0, \"exceptionClass\": \"\", \"trace\": \"\"}}, \"*\")"
      ],
      "text/plain": [
       "<IPython.core.display.Javascript object>"
      ]
     },
     "metadata": {},
     "output_type": "display_data"
    },
    {
     "data": {
      "text/markdown": [
       "<span style=\"color:#cc3333\">Incorrect:</span> You still need to define the following variables: `val_X`"
      ],
      "text/plain": [
       "Incorrect: You still need to define the following variables: `val_X`"
      ]
     },
     "metadata": {},
     "output_type": "display_data"
    }
   ],
   "source": [
    "# Predict with all validation observations\n",
    "val_predictions = ____\n",
    "\n",
    "# Check your answer\n",
    "step_3.check()"
   ]
  },
  {
   "cell_type": "code",
   "execution_count": 7,
   "id": "12f864ff",
   "metadata": {
    "execution": {
     "iopub.execute_input": "2024-05-14T21:06:14.573368Z",
     "iopub.status.busy": "2024-05-14T21:06:14.572937Z",
     "iopub.status.idle": "2024-05-14T21:06:14.577609Z",
     "shell.execute_reply": "2024-05-14T21:06:14.576563Z"
    },
    "papermill": {
     "duration": 0.015223,
     "end_time": "2024-05-14T21:06:14.579747",
     "exception": false,
     "start_time": "2024-05-14T21:06:14.564524",
     "status": "completed"
    },
    "tags": []
   },
   "outputs": [],
   "source": [
    "# step_3.hint()\n",
    "# step_3.solution()"
   ]
  },
  {
   "cell_type": "markdown",
   "id": "53508114",
   "metadata": {
    "papermill": {
     "duration": 0.008122,
     "end_time": "2024-05-14T21:06:14.594946",
     "exception": false,
     "start_time": "2024-05-14T21:06:14.586824",
     "status": "completed"
    },
    "tags": []
   },
   "source": [
    "Inspect your predictions and actual values from validation data."
   ]
  },
  {
   "cell_type": "code",
   "execution_count": 8,
   "id": "eeade829",
   "metadata": {
    "execution": {
     "iopub.execute_input": "2024-05-14T21:06:14.612821Z",
     "iopub.status.busy": "2024-05-14T21:06:14.612322Z",
     "iopub.status.idle": "2024-05-14T21:06:14.618334Z",
     "shell.execute_reply": "2024-05-14T21:06:14.617198Z"
    },
    "papermill": {
     "duration": 0.018524,
     "end_time": "2024-05-14T21:06:14.620940",
     "exception": false,
     "start_time": "2024-05-14T21:06:14.602416",
     "status": "completed"
    },
    "tags": []
   },
   "outputs": [
    {
     "name": "stdout",
     "output_type": "stream",
     "text": [
      "<learntools.core.constants.PlaceholderValue object at 0x7da4ba9c52d0>\n",
      "<learntools.core.constants.PlaceholderValue object at 0x7da4ba9c52d0>\n"
     ]
    }
   ],
   "source": [
    "# print the top few validation predictions\n",
    "print(____)\n",
    "# print the top few actual prices from validation data\n",
    "print(____)"
   ]
  },
  {
   "cell_type": "markdown",
   "id": "ad5ed6ac",
   "metadata": {
    "papermill": {
     "duration": 0.007168,
     "end_time": "2024-05-14T21:06:14.636017",
     "exception": false,
     "start_time": "2024-05-14T21:06:14.628849",
     "status": "completed"
    },
    "tags": []
   },
   "source": [
    "What do you notice that is different from what you saw with in-sample predictions (which are printed after the top code cell in this page).\n",
    "\n",
    "Do you remember why validation predictions differ from in-sample (or training) predictions? This is an important idea from the last lesson.\n",
    "\n",
    "## Step 4: Calculate the Mean Absolute Error in Validation Data\n"
   ]
  },
  {
   "cell_type": "code",
   "execution_count": 9,
   "id": "12db347f",
   "metadata": {
    "execution": {
     "iopub.execute_input": "2024-05-14T21:06:14.652815Z",
     "iopub.status.busy": "2024-05-14T21:06:14.652392Z",
     "iopub.status.idle": "2024-05-14T21:06:14.661642Z",
     "shell.execute_reply": "2024-05-14T21:06:14.660284Z"
    },
    "papermill": {
     "duration": 0.020951,
     "end_time": "2024-05-14T21:06:14.664266",
     "exception": false,
     "start_time": "2024-05-14T21:06:14.643315",
     "status": "completed"
    },
    "tags": []
   },
   "outputs": [
    {
     "data": {
      "application/javascript": [
       "parent.postMessage({\"jupyterEvent\": \"custom.exercise_interaction\", \"data\": {\"outcomeType\": 4, \"interactionType\": 1, \"questionType\": 1, \"questionId\": \"4_MAE\", \"learnToolsVersion\": \"0.3.4\", \"valueTowardsCompletion\": 0.0, \"failureMessage\": \"\", \"exceptionClass\": \"\", \"trace\": \"\"}}, \"*\")"
      ],
      "text/plain": [
       "<IPython.core.display.Javascript object>"
      ]
     },
     "metadata": {},
     "output_type": "display_data"
    },
    {
     "data": {
      "text/markdown": [
       "<span style=\"color:#ccaa33\">Check:</span> When you've updated the starter code, `check()` will tell you whether your code is correct. You need to update the code that creates variable `val_mae`"
      ],
      "text/plain": [
       "Check: When you've updated the starter code, `check()` will tell you whether your code is correct. You need to update the code that creates variable `val_mae`"
      ]
     },
     "metadata": {},
     "output_type": "display_data"
    }
   ],
   "source": [
    "from sklearn.metrics import mean_absolute_error\n",
    "val_mae = ____\n",
    "\n",
    "# uncomment following line to see the validation_mae\n",
    "#print(val_mae)\n",
    "\n",
    "# Check your answer\n",
    "step_4.check()"
   ]
  },
  {
   "cell_type": "code",
   "execution_count": 10,
   "id": "7d7856ea",
   "metadata": {
    "execution": {
     "iopub.execute_input": "2024-05-14T21:06:14.681906Z",
     "iopub.status.busy": "2024-05-14T21:06:14.681520Z",
     "iopub.status.idle": "2024-05-14T21:06:14.685863Z",
     "shell.execute_reply": "2024-05-14T21:06:14.684525Z"
    },
    "papermill": {
     "duration": 0.01605,
     "end_time": "2024-05-14T21:06:14.688202",
     "exception": false,
     "start_time": "2024-05-14T21:06:14.672152",
     "status": "completed"
    },
    "tags": []
   },
   "outputs": [],
   "source": [
    "# step_4.hint()\n",
    "# step_4.solution()"
   ]
  },
  {
   "cell_type": "markdown",
   "id": "126f9064",
   "metadata": {
    "papermill": {
     "duration": 0.007549,
     "end_time": "2024-05-14T21:06:14.703659",
     "exception": false,
     "start_time": "2024-05-14T21:06:14.696110",
     "status": "completed"
    },
    "tags": []
   },
   "source": [
    "Is that MAE good?  There isn't a general rule for what values are good that applies across applications. But you'll see how to use (and improve) this number in the next step.\n",
    "\n",
    "# Keep Going\n",
    "\n",
    "You are ready for **[Underfitting and Overfitting](https://www.kaggle.com/dansbecker/underfitting-and-overfitting).**\n"
   ]
  },
  {
   "cell_type": "markdown",
   "id": "e08426cb",
   "metadata": {
    "papermill": {
     "duration": 0.007543,
     "end_time": "2024-05-14T21:06:14.719236",
     "exception": false,
     "start_time": "2024-05-14T21:06:14.711693",
     "status": "completed"
    },
    "tags": []
   },
   "source": [
    "---\n",
    "\n",
    "\n",
    "\n",
    "\n",
    "*Have questions or comments? Visit the [course discussion forum](https://www.kaggle.com/learn/intro-to-machine-learning/discussion) to chat with other learners.*"
   ]
  }
 ],
 "metadata": {
  "kaggle": {
   "accelerator": "none",
   "dataSources": [
    {
     "databundleVersionId": 111096,
     "sourceId": 10211,
     "sourceType": "competition"
    },
    {
     "datasetId": 11167,
     "sourceId": 15520,
     "sourceType": "datasetVersion"
    },
    {
     "datasetId": 2709,
     "sourceId": 38454,
     "sourceType": "datasetVersion"
    }
   ],
   "isGpuEnabled": false,
   "isInternetEnabled": false,
   "language": "python",
   "sourceType": "notebook"
  },
  "kernelspec": {
   "display_name": "Python 3",
   "language": "python",
   "name": "python3"
  },
  "language_info": {
   "codemirror_mode": {
    "name": "ipython",
    "version": 3
   },
   "file_extension": ".py",
   "mimetype": "text/x-python",
   "name": "python",
   "nbconvert_exporter": "python",
   "pygments_lexer": "ipython3",
   "version": "3.10.13"
  },
  "papermill": {
   "default_parameters": {},
   "duration": 7.338331,
   "end_time": "2024-05-14T21:06:15.348709",
   "environment_variables": {},
   "exception": null,
   "input_path": "__notebook__.ipynb",
   "output_path": "__notebook__.ipynb",
   "parameters": {},
   "start_time": "2024-05-14T21:06:08.010378",
   "version": "2.5.0"
  }
 },
 "nbformat": 4,
 "nbformat_minor": 5
}
